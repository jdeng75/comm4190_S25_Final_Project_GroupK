{
 "cells": [
  {
   "cell_type": "markdown",
   "id": "688628e0-79b3-4008-8787-3c17a2ff2f6c",
   "metadata": {},
   "source": [
    "# Evaluating Existing LLMs"
   ]
  },
  {
   "cell_type": "markdown",
   "id": "1d3bea30-2878-4971-acfe-9f074daf59b1",
   "metadata": {},
   "source": [
    "## Getting Started "
   ]
  },
  {
   "cell_type": "markdown",
   "id": "afc5e56b-597f-4475-8ed0-c44d9cecec38",
   "metadata": {},
   "source": [
    "While I was training for my half marathon, I remember using Chat GPT-4 to create a mock training plan schedule for me, but I didn't realize that this wasn't the only thing I should be worried about. I didn't know that shoes, as well as running accessories, would be an important factor. So, in order to prepare for the prompting and creation of my model, I thought it was really important to test existing LLMs in order to see how I can make my model even better for beginners who know nothing about running. Here are several examples of what existing LLMs suggest. I will be using the same prompting to make it controlled and see how they differ in responses. "
   ]
  },
  {
   "cell_type": "markdown",
   "id": "d35e53ff-551a-4fa9-bc35-c67d90f75c28",
   "metadata": {},
   "source": [
    "## GPT-4o"
   ]
  },
  {
   "cell_type": "markdown",
   "id": "a62008fa-0b26-42ab-baa0-cba5fa743c0d",
   "metadata": {},
   "source": [
    "### Prompt: </br>\n",
    "\"Hi. I’m a complete beginner who doesn’t know where to start - I signed up for the half marathon for March 30th and it’s currently December 14th. How do I train for the half marathon?\"\n",
    "\n",
    "### Response: </br>\n",
    "That’s fantastic–congratulations on taking the leap into a half marathon! With about 15 weeks until race day, you have a great amount of time to safely build up your endurance, even as a beginner. Here’s a step-by-step guide to help you get started:\n",
    "\n",
    "---\n",
    "\n",
    "**1. Assess Your Current Fitness Level**\n",
    "- **Are you currently running at all?** If not, don’t worry! The plan below starts with walk/run intervals.\n",
    "- **How comfortable are you walking for 30-45 minutes?**\n",
    "\n",
    "---\n",
    "\n",
    "**2. Gather Basic Gear**\n",
    "- **Comfortable athletic shoes** (preferably from a running store if possible for proper fit)\n",
    "- **Moisture-wicking clothes**\n",
    "- **Weather-appropriate outerwear**\n",
    "- **Water bottle**\n",
    "\n",
    "---\n",
    "\n",
    "**3. Set a Simple Weekly Structure**\n",
    "Most beginner half marathons use a 3-4 days per week running schedule, plus option for cross-training or rest.\n",
    "\n",
    "**Sample Weekly Schedule:**\n",
    "- **Day 1:** Short Run/Walk\n",
    "- **Day 2:** Rest or cross-train (cycling, swimming, brisk walk)\n",
    "- **Day 3:** Short-Moderate Run/Walk (slightly longer than Day 1)\n",
    "- **Day 4:** Rest or cross-train\n",
    "- **Day 5:** Long Slow Run/Walk\n",
    "- **Weekend:** Rest and/or gentle activity (yoga, stretching)\n",
    "\n",
    "---\n",
    "**4. Building Up: The 15-Week Beginner Plan**\n",
    "This is a general outline. If you’re not running at all, start with a walk/run program (walk 2-3 min, jog 1 min, repeat).\n",
    "\n",
    "**Weeks 1-4:**\n",
    "- **Short runs**: 1.5-2 miles (run/walk as needed)\n",
    "- **Long run**: 2-3 miles\n",
    "- **Goal:** Build up to running 20-30 minutes without stopping (it’s okay to take brief walk breaks)\n",
    "\n",
    "**Weeks 5-8:**\n",
    "- **Short runs:** 2-3 miles\n",
    "- **Long run:** 4-5 miles by week 8\n",
    "- **Add extra run or cross-training if feeling good**\n",
    "\n",
    "**Weeks 9-12:**\n",
    "- **Short runs:** 3-4 miles\n",
    "- **Long run:** Gradually up to 8-9 miles\n",
    "\n",
    "**Weeks 13-14:**\n",
    "- **Short runs:** 4 miles\n",
    "- **Long run:** Peak at 10-11 miles\n",
    "\n",
    "**Week 15 (Race Week):**\n",
    "- **Reduce your mileage:** Short, easy runs only\n",
    "- **Stay fresh for race day**\n",
    "\n",
    "---\n",
    "\n",
    "**5. Key Training Tips**\n",
    "- **Long runs are your most important workout**—do them at a slow, conversational pace.\n",
    "- **Rest is essential**—give yourself at least one full rest day per week.\n",
    "- **Listen to your body:** A little soreness is normal, but sharp pain is not.\n",
    "- **Stay hydrated and fuel well**; practice eating/drinking on long runs.\n",
    "- **Stretch, warm up, and cool down** with each workout.\n",
    "- **Consider a walk/run method** (e.g., 4 min run / 1 min walk) if you’re new to running.\n",
    "\n",
    "---\n",
    "\n",
    "**6. Example Beginner Half Marathon Schedule (First Few Weeks)**\n",
    "\n",
    "| Week | Tue (Short) | Thu (Short) | Sat (Long) |\n",
    "|------|-------------|-------------|------------|\n",
    "| 1    | 1.5 miles   | 2 miles     | 2.5 miles  |\n",
    "| 2    | 1.5 miles   | 2 miles     | 3 miles    |\n",
    "| 3    | 2 miles     | 2.5 miles   | 3.5 miles  |\n",
    "| 4    | 2 miles     | 2.5 miles   | 4 miles    |\n",
    "\n",
    "(Start all runs with run/walk intervals as needed.)\n",
    "\n",
    "---\n",
    "\n",
    "**7. Stay Motivated**\n",
    "- Track your runs with an app or journal.\n",
    "- Find a running buddy or join a local group.\n",
    "- Remember: **The goal is to finish feeling proud—not fast.**\n",
    "\n",
    "---\n",
    "\n",
    "**8. Resources**\n",
    "Look up beginner half marathon training plans from:\n",
    "- **Hal Higdon** ([Novice 1 Half Marathon Plan](https://www.halhigdon.com/training-programs/half-marathon-training/novice-1-half-marathon/))\n",
    "- **NHS Couch to 5K** if you need a very gentle start (builds you to 5K running)\n",
    "\n",
    "---\n",
    "\n",
    "**You’ve got this. Take it step-by-step, and your endurance will amaze you. If you want a detailed weekly plan or have specific questions, let me know!**\n"
   ]
  },
  {
   "cell_type": "markdown",
   "id": "ac27eb8e-9f1c-4863-90ba-ffdbab5283e2",
   "metadata": {},
   "source": [
    "## Analysis of GPT-4o Response"
   ]
  },
  {
   "cell_type": "markdown",
   "id": "36c92b52-8b2f-4402-9379-45c4fa9c1e48",
   "metadata": {},
   "source": [
    "As a beginner runner, I found it really overwhelming. There were too many questions thrown at me at once, and I didn’t have enough time to respond to all of them. It didn’t ask me any initial questions to understand my background or challenges with running, so it felt like the plan was generated without considering my needs or preferences. I think if I was overloaded with this much information, especially how generic it is, I would've searched up generic running plans online."
   ]
  },
  {
   "cell_type": "markdown",
   "id": "0ad16eb7-c7f3-46ed-b3f8-362dbb4808bb",
   "metadata": {},
   "source": [
    "---"
   ]
  },
  {
   "cell_type": "markdown",
   "id": "724b5fb9-b1f9-4dce-963c-9d51796ced90",
   "metadata": {},
   "source": [
    "### Prompt2: \n",
    "I have shin splints, I don't know what to do\n",
    "\n",
    "### Response2:\n",
    "1. Stop Running Temporarily\n",
    "Give your legs a break. Continuing to run through pain can make it worse and lead to stress fractures.\n",
    "\n",
    "2. Ice Your Shins\n",
    "Ice for 15–20 minutes, 2–3 times a day.\n",
    "\n",
    "Helps reduce inflammation and pain.\n",
    "\n",
    "3. Take Anti-Inflammatories (If Needed)\n",
    "Ibuprofen or naproxen can help with pain and swelling.\n",
    "\n",
    "Check with a doctor if you're unsure whether it's safe for you.\n",
    "\n",
    "4. Check Your Shoes\n",
    "Make sure you're wearing supportive, well-cushioned running shoes.\n",
    "\n",
    "Consider getting fitted at a specialty running store.\n",
    "\n",
    "If your shoes have over 300–500 miles on them, it may be time to replace them.\n",
    "\n",
    "5. Strengthen & Stretch\n",
    "Often caused by muscle imbalances. Try:\n",
    "\n",
    "Toe raises\n",
    "\n",
    "Calf stretches\n",
    "\n",
    "Foam rolling your calves and anterior tibialis\n",
    "\n",
    "Strengthening your hips and core\n",
    "\n",
    "6. Cross-Train\n",
    "Use low-impact cardio (like cycling, swimming, or elliptical) to maintain fitness while you recover.\n",
    "\n",
    "7. Gradual Return\n",
    "Once pain-free:\n",
    "\n",
    "Start with shorter, slower runs.\n",
    "\n",
    "Increase mileage by no more than 10% per week.\n",
    "\n",
    "If pain doesn’t improve in 1–2 weeks, or if it worsens, see a sports medicine doctor to rule out a stress fracture or compartment syndrome.\n",
    "\n",
    "Would you like me to help you build a recovery and return-to-run plan based on your fitness level?"
   ]
  },
  {
   "cell_type": "markdown",
   "id": "64466dff-624b-4ccb-ab46-2d30a445e1c7",
   "metadata": {},
   "source": [
    "## Analysis"
   ]
  },
  {
   "cell_type": "markdown",
   "id": "3a9a8c2f-2131-4ec0-a600-6b486e9b0197",
   "metadata": {},
   "source": [
    "Although it gave me nice and helpful tips, it would've been nice if it could reference some outside sources for me to further investigate my shin splints."
   ]
  },
  {
   "cell_type": "markdown",
   "id": "579ed514-e2ba-4ea0-96e0-34ecad5f4504",
   "metadata": {},
   "source": [
    "---"
   ]
  },
  {
   "cell_type": "markdown",
   "id": "248d3a67-f49e-41e0-a046-3e3312c86cc5",
   "metadata": {},
   "source": [
    "## Google Gemini"
   ]
  },
  {
   "cell_type": "markdown",
   "id": "a9741e9a-ca7a-4db5-98b5-8df6a557f245",
   "metadata": {},
   "source": [
    "Outside of GPT-4o, I wanted to test out Google Gemini and see how it would do with CSV running files. I wanted to see if it could answer some of my questions."
   ]
  },
  {
   "cell_type": "markdown",
   "id": "9b89b334-2c6e-43ab-bf90-93f0b4bb2fd9",
   "metadata": {},
   "source": [
    "### Prompt1: \n",
    "Given my CSV running data file, do you think I can run faster with my bad shin splints. \n",
    "\n",
    "### Response1:\n",
    "![Error](Gemini.png)\n",
    "\n",
    "\n",
    "## Analysis \n",
    "Well, you can't even run a CSV file in Google Gemini. It's unable to read in my CSV and give me a summary report on my running progress. This is ultimately very unhelpful."
   ]
  },
  {
   "cell_type": "code",
   "execution_count": null,
   "id": "b3021971-9ab8-420d-87d8-a27fc8046a32",
   "metadata": {},
   "outputs": [],
   "source": []
  }
 ],
 "metadata": {
  "citation-manager": {
   "items": {}
  },
  "kernelspec": {
   "display_name": "Python 3-12 (COMM4190)",
   "language": "python",
   "name": "python3-12_comm4190"
  },
  "language_info": {
   "codemirror_mode": {
    "name": "ipython",
    "version": 3
   },
   "file_extension": ".py",
   "mimetype": "text/x-python",
   "name": "python",
   "nbconvert_exporter": "python",
   "pygments_lexer": "ipython3",
   "version": "3.12.8"
  }
 },
 "nbformat": 4,
 "nbformat_minor": 5
}
