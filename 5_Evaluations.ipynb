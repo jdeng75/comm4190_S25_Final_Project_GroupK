{
 "cells": [
  {
   "cell_type": "markdown",
   "id": "3a6ee728-52d5-47b0-8825-b2d8ef1be751",
   "metadata": {},
   "source": [
    "# Motiva Evaluation"
   ]
  },
  {
   "cell_type": "markdown",
   "id": "399929e5-dec0-4b51-ab47-7082ec884a80",
   "metadata": {},
   "source": [
    "Below will show some of the user examples and how they work with the Motiva app."
   ]
  },
  {
   "cell_type": "markdown",
   "id": "a3d82320-3aee-4c3b-9d19-783139333a2e",
   "metadata": {},
   "source": [
    "## 1. A person with their Strava data. Just wants to see if they’re able to run at a 6:00 pace in two months."
   ]
  },
  {
   "cell_type": "markdown",
   "id": "b5a06f9a-1be7-42d1-b5c2-c76e44eac7cb",
   "metadata": {},
   "source": [
    "<img src=\"Case1.png\" width=90%/>\n",
    "<img src=\"2.png\" width=90%/>\n",
    "<img src=\"3.png\" width=90%/>\n",
    "<img src=\"4.png\" width=90%/>"
   ]
  },
  {
   "cell_type": "markdown",
   "id": "a5d34acf-de34-4fda-b87c-549ae52fb3c7",
   "metadata": {},
   "source": [
    "**It was able** to summarize my running information! And from that information, I was able to feed it in the chat to help inform the model. I like how it doesn't overload you with information. It introduces itself first and asks questions one at a time. It was also able to generate my plan after I asked it once. "
   ]
  },
  {
   "cell_type": "markdown",
   "id": "907cfaea-e074-4779-a2ad-0aeabe67438d",
   "metadata": {},
   "source": [
    "## 2. A complete beginner who doesn’t know where to start and doesn’t have strava. She signed up for the half marathon for March 30th and it’s currently December 14th. She has really old shoes (500+ mi), she gets really bad shin splints, and runs an 11:00 pace. She can’t even run two miles straight."
   ]
  },
  {
   "cell_type": "markdown",
   "id": "5ea7f2d5-4218-4008-951e-f6474a19aee3",
   "metadata": {},
   "source": [
    "<img src=\"2-1.png\" width=90%/>\n",
    "<img src=\"2-2.png\" width=90%/>\n",
    "<img src=\"2-3.png\" width=90%/>\n",
    "<img src=\"2-4.png\" width=90%/>"
   ]
  },
  {
   "cell_type": "markdown",
   "id": "88136f64-7644-4a06-bd45-76490849906a",
   "metadata": {},
   "source": [
    "It helped look up places I could find good shoes to run in!"
   ]
  },
  {
   "cell_type": "markdown",
   "id": "2ff8f46d-2824-4178-a83a-26d03431698c",
   "metadata": {},
   "source": [
    "## 3. Someone who is trying to PR a 5k. He has some strava data. He currently just bought new shoes, runs at a 9:30 pace, and is a casual runner who runs 5 times a week. He doesn’t have any injuries."
   ]
  },
  {
   "cell_type": "markdown",
   "id": "081c2751-65d1-44c8-806c-2cdb7ed7f711",
   "metadata": {},
   "source": [
    "<img src=\"3-1.png\" width=90%/>"
   ]
  },
  {
   "cell_type": "markdown",
   "id": "caf72a89-7b17-47c3-9925-49772dec4f15",
   "metadata": {},
   "source": [
    "---"
   ]
  },
  {
   "cell_type": "markdown",
   "id": "727815eb-ab51-4e5f-9e00-d24ba8dd12a0",
   "metadata": {},
   "source": [
    "# Project Evaluation"
   ]
  },
  {
   "cell_type": "markdown",
   "id": "614db029-02a0-435f-8f26-1000fb6a77a8",
   "metadata": {},
   "source": [
    "## AI Running Coach Chatbox – Project Evaluation\n",
    "\n",
    "| Category        | Item                                                                 | Details                                                                                                                                               |\n",
    "|----------------|----------------------------------------------------------------------|-------------------------------------------------------------------------------------------------------------------------------------------------------|\n",
    "|Pros         | Personalization Through Strava Data                                  | Uses fitness logs to tailor running plans based on real-world activity.                                                                               |\n",
    "|                | Conversational Accessibility                                         | Gradio UI allows for a natural and user-friendly experience.                                                                                          |\n",
    "|                | Retrieval-Augmented Responses                                         | DuckDuckGo search via LangChain keeps advice current and dynamic.                                                                                     |\n",
    "|                | Multi-Modal Integration                                              | Combines static (Strava) and dynamic (search) inputs for richer responses.                                                                            |\n",
    "|                | Scalable and Extendable Architecture                                 | Modular design makes future feature additions straightforward.                                                                                        |\n",
    "|                | Appeals to Growing Market                                            | Sits at the intersection of fitness tech and AI coaching — high interest potential.                                                                  |\n",
    "|Cons         | Accuracy of Fitness Assessment                                       | Limited biometric data from Strava may reduce precision of fitness insights.                                                                         |\n",
    "|                | Dependence on User Data Quality                                      | Poor or inconsistent Strava logs can weaken recommendation quality.                                                                                   |\n",
    "|                | Lack of Deep Domain Expertise                                        | Without professional input, training plans might not be evidence-based.                                                                               |\n",
    "|                | Limited Feedback Loop                                                | No tracking of follow-through or effectiveness without additional design.                                                                             |\n",
    "|                | Data Privacy Concerns                                                | Sensitive location and health info requires careful data handling.                                                                                    |\n",
    "|                | Reliance on External Tools                                           | DuckDuckGo search results vary; introduces external dependencies.                                                                                     |\n",
    "| Future Endeavors | Enhanced Fitness Modeling                                         | Incorporate HR, VO2, terrain, CTL/TSB metrics for better insights.                                                                                    |\n",
    "|                | Goal-Based Planning                                                  | Let users set performance goals and receive structured, adaptive plans.                                                                               |\n",
    "|                | Conversational Check-Ins                                             | Daily or weekly engagement to monitor progress and keep users motivated.                                                                              |\n",
    "|                | Injury and Recovery Advising                                         | Add information on injuries, recovery strategies, and cross-training.                                                                                 |\n",
    "|                | Community Features                                                   | Social or mentoring features to boost accountability and enjoyment.                                                                                   |\n",
    "|                | Mobile App or Voice Integration                                      | Expand to mobile or integrate with voice assistants for real-time interaction.                                                                        |\n",
    "|                | Gamification                                                         | Use badges, streaks, and motivational nudges to improve adherence.                                                                                    |\n",
    "|                | Coaching Personas via LLM Tuning                                     | Offer coach styles (e.g., motivational, technical) for user-preferred tone.                                                                           |\n"
   ]
  },
  {
   "cell_type": "markdown",
   "id": "7e37238b-37e8-416e-8f37-d269370086d4",
   "metadata": {},
   "source": [
    "## AI Running Coach Chatbox – Project Evaluation\n",
    "\n",
    "| Category        | Item                                                                 | Details                                                                                                                                               |\n",
    "|----------------|----------------------------------------------------------------------|--------------------------|\n",
    "| Pros         | Personalization Through Strava Data                                  | Uses fitness logs to tailor running plans based on real-world activity.                                                                               |\n",
    "|                | Conversational Accessibility                                         | Gradio UI allows for a natural and user-friendly experience.                                                                                          |\n",
    "|                | Retrieval-Augmented Responses                                         | DuckDuckGo search via LangChain keeps advice current and dynamic.                                                                                     |\n",
    "|                | Multi-Modal Integration                                              | Combines static (Strava) and dynamic (search) inputs for richer responses.                                                                            |\n",
    "|                | Scalable and Extendable Architecture                                 | Modular design makes future feature additions straightforward.                                                                                        |\n",
    "|                | Appeals to Growing Market                                            | Sits at the intersection of fitness tech and AI coaching — high interest potential.                                                                  |\n",
    "| Cons         | Accuracy of Fitness Assessment                                       | Limited biometric data from Strava may reduce precision of fitness insights.                                                                         |\n",
    "|                | Dependence on User Data Quality                                      | Poor or inconsistent Strava logs can weaken recommendation quality.                                                                                   |\n",
    "|                | Lack of Deep Domain Expertise                                        | Without professional input, training plans might not be evidence-based.                                                                               |\n",
    "|                | Limited Feedback Loop                                                | No tracking of follow-through or effectiveness without additional design.                                                                             |\n",
    "|                | Data Privacy Concerns                                                | Sensitive location and health info requires careful data handling.                                                                                    |\n",
    "|                | Reliance on External Tools                                           | DuckDuckGo search results vary; introduces external dependencies.                                                                                     |\n",
    "|Future Endeavors | Enhanced Fitness Modeling                                         | Incorporate HR, VO2, terrain, CTL/TSB metrics for better insights.                                                                                    |\n",
    "|                | Goal-Based Planning                                                  | Let users set performance goals and receive structured, adaptive plans.                                                                               |\n",
    "|                | Conversational Check-Ins                                             | Daily or weekly engagement to monitor progress and keep users motivated.                                                                              |\n",
    "|                | Injury and Recovery Advising                                         | Add information on injuries, recovery strategies, and cross-training.                                                                                 |\n",
    "|                | Community Features                                                   | Social or mentoring features to boost accountability and enjoyment.                                                                                   |\n",
    "|                | Mobile App or Voice Integration                                      | Expand to mobile or integrate with voice assistants for real-time interaction.                                                                        |\n",
    "|                | Gamification                                                         | Use badges, streaks, and motivational nudges to improve adherence.                                                                                    |\n",
    "|                | Coaching Personas via LLM Tuning                                     | Offer coach styles (e.g., motivational, technical) for user-preferred tone.                                                                           |\n"
   ]
  }
 ],
 "metadata": {
  "kernelspec": {
   "display_name": "Python 3-12 (COMM4190)",
   "language": "python",
   "name": "python3-12_comm4190"
  },
  "language_info": {
   "codemirror_mode": {
    "name": "ipython",
    "version": 3
   },
   "file_extension": ".py",
   "mimetype": "text/x-python",
   "name": "python",
   "nbconvert_exporter": "python",
   "pygments_lexer": "ipython3",
   "version": "3.12.8"
  }
 },
 "nbformat": 4,
 "nbformat_minor": 5
}
