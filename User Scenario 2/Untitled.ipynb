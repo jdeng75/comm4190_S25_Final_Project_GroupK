{
 "cells": [
  {
   "cell_type": "markdown",
   "id": "74c1f8cc-9c7e-410a-9965-d43decc71423",
   "metadata": {},
   "source": [
    "# User Scenario 2:\n",
    "### Someone who is trying to PR a 5k. He currently just bought new shoes, runs at a 9:30 pace, and is a casual runner who runs 5 times a week. He doesn't have any injuries."
   ]
  },
  {
   "cell_type": "code",
   "execution_count": 1,
   "id": "908f3bb9-8b35-4378-8fe2-7834f23f4890",
   "metadata": {},
   "outputs": [],
   "source": [
    "import sys\n",
    "import base64\n",
    "import zlib\n",
    "from IPython.display import Image,display,SVG"
   ]
  },
  {
   "cell_type": "code",
   "execution_count": 2,
   "id": "efc1211f-36a7-478e-b18d-91477d3e3bd7",
   "metadata": {},
   "outputs": [],
   "source": [
    "def mm(diagram):\n",
    "    encoded_diagram = base64.urlsafe_b64encode(zlib.compress(diagram.encode('utf-8'), 9)).decode('ascii')\n",
    "    dia_url = f'https://kroki.io/mermaid/svg/{encoded_diagram}'\n",
    "    display(Image(url=dia_url))"
   ]
  },
  {
   "cell_type": "code",
   "execution_count": 4,
   "id": "25cd512c-79cc-4b7d-9595-dddc45f6462a",
   "metadata": {},
   "outputs": [
    {
     "data": {
      "text/html": [
       "<img src=\"https://kroki.io/mermaid/svg/eNqFU8Fu00AQvecrJndiAaEHfIhUgRBREYoSJMRxuh7b26x3zexsrdz6EVz4vX4Js04AtZJdX7wrz3sz773xItLPRN7QR4sNY7cAffbJe-LVZnO9hQ8BTVvCZzotYfv48LsD4ZP1DUiA3R66E1zdFCPqb_FKgWeGEq4HiqGjJXwhUXCEhgSiIAtVxVSvLdylKNAEAU8DxDZQnCk2iZm8uBNw8oDwvly_hh4NzWBy5RWI7SgqYiA6Thfr3BUYdE7FRnK1AgzGhC6zaPUk8msA6-8SW23CtmlVThiKxaRZO-KajMDjwy-IwdkK6pB8hWKDf2bxZvON0XrN4WCFYgkHQjZtzqUODLfU2HGcWpv7yuWQclq9Qx-L4kz2hGH1ZPJPue-5GgYrreoQ4nt08RUIdX3I0vWMWuWCNs3X6S3IFt7TWY26V2uoDRPKpYNuUpNsRZDijDsHoR7elPCdlE3DGAIfIXiIPVGlB0OXJJ9NXMwzvtUlrTKe_isbadQ0Hew2WVflje2sxxeo1iXckL5PITEQxnEhVR4n5cr3F_Dvyn-_iTCaI_Qc1Kd4yQDHfdVPVlfPeliPY87o-xGSkjFll8aZBhw1SavW7_bLxR9vzU6b\"/>"
      ],
      "text/plain": [
       "<IPython.core.display.Image object>"
      ]
     },
     "metadata": {},
     "output_type": "display_data"
    }
   ],
   "source": [
    "dia1 = '''\n",
    "sequenceDiagram\n",
    "    Runner->>AI Coach: Hey! I’m trying to PR my 5K.\n",
    "    AI Coach-->>Runner: Awesome! Let’s get started.\n",
    "    Runner->>AI Coach: I just got new shoes.\n",
    "    Runner->>AI Coach: I currently run a 9:30 pace.\n",
    "    Runner->>AI Coach: I run 5 times a week.\n",
    "    Runner->>AI Coach: I’d call myself a casual runner.\n",
    "    Runner->>AI Coach: No injuries right now.\n",
    "\n",
    "    AI Coach-->>Runner: Perfect — solid foundation.\n",
    "    AI Coach->>TrainingSites: Searching for beginner-friendly 5K PR plans...\n",
    "    TrainingSites-->>AI Coach: Found plans with intervals, tempo runs, and long runs.\n",
    "    AI Coach-->>Runner: I’ve found a few great plans to guide us.\n",
    "\n",
    "    AI Coach-->>Runner: Step 1: We’ll work on speed once a week with intervals.\n",
    "    AI Coach-->>Runner: Step 2: Add one tempo run weekly to build stamina.\n",
    "    AI Coach-->>Runner: Step 3: Keep your easy runs truly easy.\n",
    "    AI Coach-->>Runner: Step 4: Let’s track progress with a time trial in 3 weeks.\n",
    "    AI Coach-->>Runner: You’re on your way to that PR!\n",
    "'''\n",
    "\n",
    "mm(dia1)"
   ]
  }
 ],
 "metadata": {
  "citation-manager": {
   "items": {}
  },
  "kernelspec": {
   "display_name": "Python 3-12 (COMM4190)",
   "language": "python",
   "name": "python3-12_comm4190"
  },
  "language_info": {
   "codemirror_mode": {
    "name": "ipython",
    "version": 3
   },
   "file_extension": ".py",
   "mimetype": "text/x-python",
   "name": "python",
   "nbconvert_exporter": "python",
   "pygments_lexer": "ipython3",
   "version": "3.12.8"
  }
 },
 "nbformat": 4,
 "nbformat_minor": 5
}
