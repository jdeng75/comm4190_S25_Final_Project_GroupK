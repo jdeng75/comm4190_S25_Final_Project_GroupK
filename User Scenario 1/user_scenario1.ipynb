{
 "cells": [
  {
   "cell_type": "markdown",
   "id": "1eee1e14-9487-4395-b02a-dc8f2b5cd931",
   "metadata": {},
   "source": [
    "# User Scenario 1: \n",
    "### A complete beginner who doesn't know where to start. She signed up for the half marathon for March 30th and it's currently December 14th. She has really old shoes (500+ mi), she gets really bad shin splints, and runs an 11:00 pace. She can't even run two miles straight."
   ]
  },
  {
   "cell_type": "code",
   "execution_count": 5,
   "id": "5af02ff1-3e3b-4401-a631-7484b45aaa89",
   "metadata": {},
   "outputs": [],
   "source": [
    "import sys\n",
    "import base64\n",
    "import zlib\n",
    "from IPython.display import Image,display,SVG"
   ]
  },
  {
   "cell_type": "code",
   "execution_count": 6,
   "id": "ea0fa5fa-6aa7-4b5e-b2e3-c071888c20d8",
   "metadata": {},
   "outputs": [],
   "source": [
    "def mm(diagram):\n",
    "    encoded_diagram = base64.urlsafe_b64encode(zlib.compress(diagram.encode('utf-8'), 9)).decode('ascii')\n",
    "    dia_url = f'https://kroki.io/mermaid/svg/{encoded_diagram}'\n",
    "    display(Image(url=dia_url))"
   ]
  },
  {
   "cell_type": "code",
   "execution_count": 10,
   "id": "2ade42e0-1036-4907-81a2-10eadd5ca6b9",
   "metadata": {},
   "outputs": [
    {
     "data": {
      "text/html": [
       "<img src=\"https://kroki.io/mermaid/svg/eNqFU8tu2zAQvPsrxiefrER59KBDiiBBGwNJCzQOjB7X0lokTJEqSUXRLR_RS38vX9KlnAItEKWCDhKwOzs7MzsL_KNjW_K1ptpTM4M8D4H98uLicoUrR6UqcKPnWC0aEKKLZLDlWlvLHmQrVM4uIvbW9egVe5YahEg-ZiPYH5SlICbgAl8ceue95jDHDbXtkDoUmzZ7e_oKQdeWK3Qtdk6GQpHZoSFPUTkLee_Ilwqnx1FNYKxdRQN0wDWX3GyFen42WbxCSfbl-VeE7yxi79Bow0G28qRrFSfbUjlZ5HlxfIyWSp6ovBsQlBNERY8M9yh0zqXjMEXWiYqbySE1Cy8mYwZsqRIgbRFao20M2WxC8rUiuw-jeoINbXdujluOizDCDa47WCYiB9qxGaa8u4_cIi_wjVsj-6VO_7rLy_PPBD6IcBICo_cCI0J2Qdt6nPov03fwTwpseGHMgRN6HVWS9qgnsxfukf0jmYDTJ7SiXM-8fxfutMBlJYu5hpOFbGvBS8lt3FYbHYcUxz3y5cnTCPaf7c8K3DpZSRgF4SY0t502YzrlgqpudIalbwRjW02hfXedaJX6ORlaiZ_DX0keBe1ZSiQjtYuIuuH57O1YfBaAOMeVpO-QkGYQDVm2ghhlP05Q-LpDKQ4GlktMp6uj3EgxUXznbDI-xGzdsXxJ2HPJrMURNsmZk_Hn6TzbcJW0OiidrVU3Xfwh--T1K-o9xQJ5dj7eAZLZS9E4u-9s0qomSHq9FM5-A_khgFA=\"/>"
      ],
      "text/plain": [
       "<IPython.core.display.Image object>"
      ]
     },
     "metadata": {},
     "output_type": "display_data"
    }
   ],
   "source": [
    "dia1 = '''\n",
    "sequenceDiagram\n",
    "    User->>AI Coach: Hi! I'm a total beginner and don't know where to start.\n",
    "    AI Coach-->>User: No worries! Happy to help.\n",
    "    User->>AI Coach: I signed up for a half marathon on March 30th.\n",
    "    User->>AI Coach: Today is December 14th.\n",
    "    User->>AI Coach: I can’t run two miles straight.\n",
    "    User->>AI Coach: I run an 11:00 pace.\n",
    "    User->>AI Coach: My shoes have over 500 miles on them.\n",
    "    User->>AI Coach: I get really bad shin splints.\n",
    "\n",
    "    AI Coach-->>User: Thanks for the info! Let's get you started safely.\n",
    "    AI Coach-->>User: Step 1: Replace your shoes — they’re likely causing the shin splints.\n",
    "    AI Coach-->>User: Step 2: We'll start with run/walk intervals 3x per week.\n",
    "    AI Coach-->>User: Step 3: Add some strength and mobility work 1-2x weekly.\n",
    "    AI Coach-->>User: Step 4: Long runs will build up gradually each weekend.\n",
    "    AI Coach-->>User: You’ll be ready by March 30th — we’ve got time!\n",
    "\n",
    "    User->>AI Coach: Great! Can I get my Week 1 plan?\n",
    "    AI Coach-->>User: Of course! Here it is:\n",
    "    AI Coach-->>User: Mon: Rest.Tue: Run 1 min / Walk 2 min x5.Wed: Strength.Thu: Run 1 min / Walk 2 min x6.Fri: Rest.Sat: 1.5 mile walk-run.Sun: Yoga or rest\n",
    "'''\n",
    "\n",
    "mm(dia1)"
   ]
  },
  {
   "cell_type": "code",
   "execution_count": null,
   "id": "bd7bdf5c-a6b1-4350-8958-ac2c75359839",
   "metadata": {},
   "outputs": [],
   "source": []
  }
 ],
 "metadata": {
  "citation-manager": {
   "items": {}
  },
  "kernelspec": {
   "display_name": "Python 3-12 (COMM4190)",
   "language": "python",
   "name": "python3-12_comm4190"
  },
  "language_info": {
   "codemirror_mode": {
    "name": "ipython",
    "version": 3
   },
   "file_extension": ".py",
   "mimetype": "text/x-python",
   "name": "python",
   "nbconvert_exporter": "python",
   "pygments_lexer": "ipython3",
   "version": "3.12.8"
  }
 },
 "nbformat": 4,
 "nbformat_minor": 5
}
