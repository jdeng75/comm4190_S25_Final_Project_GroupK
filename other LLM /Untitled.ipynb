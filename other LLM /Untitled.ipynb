{
 "cells": [
  {
   "cell_type": "markdown",
   "id": "516ea482-3efa-4b72-8ac8-a6cf5635b9d6",
   "metadata": {},
   "source": [
    "<img scr=\"Gemini.png\" width=\"100%\"/>"
   ]
  },
  {
   "cell_type": "code",
   "execution_count": null,
   "id": "b8324eab-b62e-43b0-b4d6-bcef692c2cb2",
   "metadata": {},
   "outputs": [],
   "source": []
  }
 ],
 "metadata": {
  "kernelspec": {
   "display_name": "Python 3-12 (COMM4190)",
   "language": "python",
   "name": "python3-12_comm4190"
  },
  "language_info": {
   "codemirror_mode": {
    "name": "ipython",
    "version": 3
   },
   "file_extension": ".py",
   "mimetype": "text/x-python",
   "name": "python",
   "nbconvert_exporter": "python",
   "pygments_lexer": "ipython3",
   "version": "3.12.8"
  }
 },
 "nbformat": 4,
 "nbformat_minor": 5
}
