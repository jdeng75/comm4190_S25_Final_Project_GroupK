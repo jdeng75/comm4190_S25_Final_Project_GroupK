{
 "cells": [
  {
   "cell_type": "markdown",
   "id": "f62dbd40-78dc-4286-b6bd-94c557fec6ff",
   "metadata": {},
   "source": [
    "*1. Introduction \n",
    "\n",
    "Hi everyone, my project is an AI-powered running coach chatbot. It’s designed to help runners get personalized training advice without needing a Strava account or fitness tracker.  \n",
    "\n",
    "The idea is to use AI to simulate what a real coach might do — ask smart questions, adapt plans over time, and even warn about injuries or worn-out shoes.  \n",
    "\n",
    "I built it using LangChain, OpenAI's GPT-4o model, and a Gradio interface so anyone can use it in a browser.\n",
    "\n",
    "*2. Use Cases\n",
    "\n",
    "This chatbot is useful for several types of users:\n",
    "\n",
    "- Beginner runners who don’t know where to start. It can ask questions like your goal (5K, half marathon, etc.), your experience, or if you have any injuries.\n",
    "- Casual runners who want to stay consistent or improve safely.\n",
    "- Injured runners who might need help adjusting their training or checking if their shoes are too worn out.\n",
    "- And even for shoe replacement advice — if a user says their shoes have 500+ miles, the bot will warn them.\n",
    "\n",
    "It also creates custom training plans and now even exports those plans as a CSV file, which is helpful for tracking progress or printing it out.\n",
    "\n",
    "**3. My Progress So Far\n",
    "\n",
    "\n",
    "The project originally started as a simple command-line chatbot that simulated a conversation between a user and a virtual running coach. It used OpenAI's API through LangChain to generate personalized training plans based on manually inputted data such as the user’s running goal, experience level, shoe mileage, and injuries. While functional, this version lacked a user-friendly interface and required multiple hardcoded inputs to work properly. Since then, the project has evolved significantly. I transitioned it to a web-based interface using Gradio, allowing for real-time chat interactions in the browser. I added features like persistent user profiling during the session, integrated a web search tool for real-time running advice, and most recently, implemented automatic CSV export of training plans to make the chatbot more practical and usable for everyday runners.\n",
    "\n",
    "\n",
    "Here's what I’ve implemented so far:\n",
    "\n",
    "- A memory-aware chatbot that tracks user input like running goals, runner type, mileage on shoes, and any injuries.\n",
    "- I connected OpenAI's GPT-4o through LangChain, and used `MessagesPlaceholder` to simulate ongoing chat memory.\n",
    "- I added DuckDuckGo Search as a tool so the bot can look up real-time running advice if needed.\n",
    "- I built a CSV export feature that automatically saves running plans when they’re mentioned — this is especially helpful for longer plans that users want to keep.\n",
    "- I deployed everything through Gradio, so it's fully interactive and browser-based.\n",
    "\n",
    "---\n",
    "\n",
    " **Next Steps (Optional)**\n",
    "\n",
    "Next, I want to:\n",
    "- Improve how the bot tracks user history across multiple sessions.\n",
    "- Add more advanced plan customization, like days available to train or cross-training preferences.\n",
    "- Possibly hook into external APIs like weather or race calendars for dynamic advice.\n"
   ]
  }
 ],
 "metadata": {
  "citation-manager": {
   "items": {}
  },
  "kernelspec": {
   "display_name": "Python 3-12 (COMM4190)",
   "language": "python",
   "name": "python3-12_comm4190"
  },
  "language_info": {
   "codemirror_mode": {
    "name": "ipython",
    "version": 3
   },
   "file_extension": ".py",
   "mimetype": "text/x-python",
   "name": "python",
   "nbconvert_exporter": "python",
   "pygments_lexer": "ipython3",
   "version": "3.12.8"
  }
 },
 "nbformat": 4,
 "nbformat_minor": 5
}
