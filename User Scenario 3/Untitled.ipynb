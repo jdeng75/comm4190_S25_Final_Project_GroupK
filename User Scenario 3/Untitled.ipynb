{
 "cells": [
  {
   "cell_type": "markdown",
   "id": "fb78517d-978d-4453-a3df-0aab01909391",
   "metadata": {},
   "source": [
    "# User Scenario 3:\n",
    "### A person who runs a lot and has ran various half marathons, but is tryinf to shoot for running an ultra marathon. They have a lot of knee and shin problems. Their shoes are also getting really bad. She only has 4 months to train, even though ultramarathons usually take half a year to a full year to train for. She still wants to try it out.  "
   ]
  },
  {
   "cell_type": "code",
   "execution_count": 5,
   "id": "81b658ff-5e3b-4fd5-aa44-da6f2c5ec452",
   "metadata": {},
   "outputs": [],
   "source": [
    "import sys\n",
    "import base64\n",
    "import zlib\n",
    "from IPython.display import Image,display,SVG"
   ]
  },
  {
   "cell_type": "code",
   "execution_count": 6,
   "id": "33fa1dce-6fe3-454e-9e72-150701e217c9",
   "metadata": {},
   "outputs": [],
   "source": [
    "def mm(diagram):\n",
    "    encoded_diagram = base64.urlsafe_b64encode(zlib.compress(diagram.encode('utf-8'), 9)).decode('ascii')\n",
    "    dia_url = f'https://kroki.io/mermaid/svg/{encoded_diagram}'\n",
    "    display(Image(url=dia_url))"
   ]
  },
  {
   "cell_type": "code",
   "execution_count": 7,
   "id": "fe91cb15-44e2-4d7d-a889-a03fb06c0f33",
   "metadata": {},
   "outputs": [
    {
     "data": {
      "text/html": [
       "<img src=\"https://kroki.io/mermaid/svg/eNqFVMtO20AU3ecrbtaFtJCyaBaRUJ9RUYWgEuuJ58YeGM9150HqHf_Qbvp7fAln7CSUFgfvLM05c8_jzijwj8Su4A9GlV7VI8J3kZxjfzifny7ovaiimtEXbse0uL_7U1P0rXElRaHzC6pbOvk66VDbw4cA9gwzOl1zkJrHdMYR4EAlRwpR-ch6MnTXgq5TiFRKJMdrCpVw2HO4SN6zi7YlnxwpejebvqFGFbwHk0-eUDQ1ByDWzDfDhzG3pkJZC7GB7QqAQoWkbGbB6UHkNyHjrpM3uMSbsoIcWU9Gg2ZdijWaliow3d_9Jiu3nF2uWHkycfwPcD7_7pVxiOLSRA6A41xR5WhW4mnJpekmWuF-p23OKQfWWOXCZNIP_YTh8MnwnyQ5jah8KmLyrHsgrU2soCqyv1U2HFDkupEDzIprYUcYrsJ5shY0uQ5UelZxwwiFZTKaSZJHt_qBJv-J_Qx1G6FnIjdZZmpQJ3iT5XZGt9R4vkUXjLitxB3uOXmeC5gMXBTJaiCXXQmFmRe_qWnER4McjAtieY-8UxsEk3SmZYkV22aVbD9hjnMlqiYvMMHjpg3fAUYIBguBDUTyTod9_Yjc0NGMrlBX5Bkahp-7LHob6sZDkf6r_4NMxxha6z7BLrscxTIZm2NXtXHqBYLpjD6q0PZYQFri_AuWjXE7f18geostc4V4YFTkxxReUS1LY01s6ej-7tfxz9ePmzpIdjLbPTZasKt5ydErg301jqbdsmPpkZPS3TujAp4Z1tsH6Tniq9z6UkTvCtoRbOVhDSr0GdtlAhUC68rx6AHKesPX\"/>"
      ],
      "text/plain": [
       "<IPython.core.display.Image object>"
      ]
     },
     "metadata": {},
     "output_type": "display_data"
    }
   ],
   "source": [
    "dia1 = '''\n",
    "sequenceDiagram\n",
    "    Runner->>AI Coach: Hey! I’m trying to PR my 5K.\n",
    "    AI Coach-->>Runner: Awesome! Let’s get started.\n",
    "    Runner->>AI Coach: I just got new shoes.\n",
    "    Runner->>AI Coach: I currently run a 9:30 pace.\n",
    "    Runner->>AI Coach: I run 5 times a week.\n",
    "    Runner->>AI Coach: I’d call myself a casual runner.\n",
    "    Runner->>AI Coach: No injuries right now.\n",
    "\n",
    "    AI Coach-->>Runner: Solid base — love to hear it!\n",
    "\n",
    "    AI Coach->>TrainingSites: Searching for beginner-friendly 5K PR plans...\n",
    "    TrainingSites-->>AI Coach: Found structured plans with intervals, tempo, long runs.\n",
    "    AI Coach-->>Runner: Pulled some great plans to guide our training.\n",
    "\n",
    "    AI Coach->>GearSites: Looking up gear for injury prevention...\n",
    "    GearSites-->>AI Coach: Found recovery tools, strength gear, supportive insoles.\n",
    "    AI Coach-->>Runner: Also found some helpful gear — foam rollers, insoles, resistance bands.\n",
    "\n",
    "    AI Coach-->>Runner: Step 1: Weekly speed intervals for improved pace.\n",
    "    AI Coach-->>Runner: Step 2: Add tempo runs to build stamina.\n",
    "    AI Coach-->>Runner: Step 3: Easy runs stay easy to support recovery.\n",
    "    AI Coach-->>Runner: Step 4: Incorporate strength + mobility 1–2x/week.\n",
    "    AI Coach-->>Runner: Step 5: Let’s do a time trial in 3 weeks and adjust as needed.\n",
    "    AI Coach-->>Runner: With good training and recovery, that PR is coming!\n",
    "'''\n",
    "\n",
    "\n",
    "mm(dia1)"
   ]
  }
 ],
 "metadata": {
  "citation-manager": {
   "items": {}
  },
  "kernelspec": {
   "display_name": "Python 3-12 (COMM4190)",
   "language": "python",
   "name": "python3-12_comm4190"
  },
  "language_info": {
   "codemirror_mode": {
    "name": "ipython",
    "version": 3
   },
   "file_extension": ".py",
   "mimetype": "text/x-python",
   "name": "python",
   "nbconvert_exporter": "python",
   "pygments_lexer": "ipython3",
   "version": "3.12.8"
  }
 },
 "nbformat": 4,
 "nbformat_minor": 5
}
