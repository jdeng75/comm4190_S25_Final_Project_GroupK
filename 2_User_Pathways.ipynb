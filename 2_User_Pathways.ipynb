{
 "cells": [
  {
   "cell_type": "markdown",
   "id": "5e329151-d61a-4ad6-8a85-3f6b99ef18ed",
   "metadata": {},
   "source": [
    "# Visual Diagrams to Explain Motiva + User Case Examples"
   ]
  },
  {
   "cell_type": "markdown",
   "id": "ef11b230-2ccc-42af-ad4a-7b9a19759409",
   "metadata": {},
   "source": [
    "To understand the story of how **Motiva** works, here are several flowcharts that are created using **Mermaid** to explain what I wanted the AI running coach to do. I'll be using all of the five user scenerio cases, as the variability of these pseudo-runners will help to expand what the model can do.\n",
    "</br>\n",
    "\n",
    "Here is the legend for my charts:\n",
    "\n",
    "1. User is the runner.\n",
    "2. Agent is **Motiva**.\n",
    "3. Tool 1 is **CSV** reader.\n",
    "4. Tool 2 is DuckDuckGo"
   ]
  },
  {
   "cell_type": "markdown",
   "id": "36c7b957-3367-48c5-9a8a-3621d4090365",
   "metadata": {},
   "source": [
    "## Cases for Simple Questions"
   ]
  },
  {
   "cell_type": "markdown",
   "id": "0de97f59-e310-4c5e-9ba3-4eabc39284d5",
   "metadata": {},
   "source": [
    "Before we jump into more complicated graphs, here's a visual for how the system will answer simple questions."
   ]
  },
  {
   "cell_type": "code",
   "execution_count": 1,
   "id": "36eda419-6025-41b3-b94e-0c77339b7c86",
   "metadata": {},
   "outputs": [],
   "source": [
    "import sys\n",
    "import base64\n",
    "import zlib\n",
    "from IPython.display import Image,display,SVG"
   ]
  },
  {
   "cell_type": "code",
   "execution_count": 2,
   "id": "ee6d5228-aba4-4d1b-a2b5-1b4b48a1f3d1",
   "metadata": {},
   "outputs": [],
   "source": [
    "def mm(diagram):\n",
    "    encoded_diagram = base64.urlsafe_b64encode(zlib.compress(diagram.encode('utf-8'), 9)).decode('ascii')\n",
    "    dia_url = f'https://kroki.io/mermaid/svg/{encoded_diagram}'\n",
    "    display(Image(url=dia_url))"
   ]
  },
  {
   "cell_type": "markdown",
   "id": "3ff3525e-f069-4f0b-98b8-c6d8efd7d405",
   "metadata": {},
   "source": [
    "**User asks for better running shoe**"
   ]
  },
  {
   "cell_type": "code",
   "execution_count": 6,
   "id": "ee4b981b-0e1f-4ef8-ab46-daadf729b94f",
   "metadata": {},
   "outputs": [
    {
     "data": {
      "text/html": [
       "<img src=\"https://kroki.io/mermaid/svg/eNplkLFOAzEMhvc-xT-2Uq9Dxw5FSFWBgaWAOvty7jXqXXIkPqpuvEAXxMLEyMJT8QQ8Ar6cBBQiJZLj378_exD5vmVneGGpDFQPoIeM-IC7yAEU8fn6dkxByjUUxBrbkBNce7EP1Gue3nFesn4O-9_RP_Wt99W0Fz8fU4QphovW7Lp74UeDVNJ1yubz3mWG9ZYEFBjR14w959EKR1zBkEPl_Q6a3yhuziIKHFrnrCsRt15lXaI-YMMsZ8m9t820QcKZ4YYpmG0Sim9OylG2tlATcoXmvWSxYWM31iCw8XXNriCx3sXknPyyX-Qrlja4-MM85Ek5GWOlLTh8PL5ErH2oijGWlfJhqc8YLGYy-oParWSGS9YtdJsgnWevDJWlvOIe9ZQIfcOcIhfQsKOHHBpOs3zPKIeKJ4Mv5dCylA==\"/>"
      ],
      "text/plain": [
       "<IPython.core.display.Image object>"
      ]
     },
     "metadata": {},
     "output_type": "display_data"
    }
   ],
   "source": [
    "dia3 = '''\n",
    "sequenceDiagram\n",
    "    actor User as 🧍 User\n",
    "    participant Motiva as 💬 Agent (Motiva)\n",
    "    participant Tool2 as 🔍 Tool 2 (DuckDuckGo)\n",
    "\n",
    "    User->>Motiva: What are some websites I can look at for better running shoes for my feet?\n",
    "    Motiva-->>Tool2: Search for top running shoe guides and foot-specific recommendations\n",
    "    Tool2-->>Motiva: Returns websites (e.g., Runner’s World, Fleet Feet, etc.)\n",
    "    Motiva-->>User: Here are a few reliable shoe recommendation sites based on foot type and running style.\n",
    "'''\n",
    "mm(dia3)"
   ]
  },
  {
   "cell_type": "markdown",
   "id": "6869b05a-cb3e-4e86-a2b8-7ad2a1935b11",
   "metadata": {},
   "source": [
    "**User asks if they can complete their goal based on their uploaded data**"
   ]
  },
  {
   "cell_type": "code",
   "execution_count": 8,
   "id": "3f938958-e98f-453b-b773-bfe5251224d9",
   "metadata": {},
   "outputs": [
    {
     "data": {
      "text/html": [
       "<img src=\"https://kroki.io/mermaid/svg/eNptkDtOAzEQhvs9xZSJlCClTRHEq6BAQoTQj-zJrsFrG4930VLT0sABKGk4HEdgbAuEBK48j_-bf6Zhuh_IKTo12EbsG5CHKvkIO6YIyPD59v5cglILGJNRJqBLcO29XdWW16cSwQpmJ9sbuCLUFOd_FBc-mRGr5OUDjlqS5Kxm501pz5OWm01hr2EXrEfNsE0RRZjZe_EWB-eMa4ETJsOC56ItoqWoK3ENl9GPRhMDD32PcYJZQEUL0CJCl3_7WA8wLYCSOpj_9vBNOUYmDd5BP32DFqDQwTko3wdLiXKp9Wj5sACqMjvJqDWcjWgHTNmIOGZApyESB-9ktweTOsmgndjUkjV3ZE3nvUzdy0iliPlf8M-CgSJ7YZhHsYp6NIpADoX6duDUy5kZkoeObJDBqDpIHRXHzReYnrGR\"/>"
      ],
      "text/plain": [
       "<IPython.core.display.Image object>"
      ]
     },
     "metadata": {},
     "output_type": "display_data"
    }
   ],
   "source": [
    "dia4 = '''\n",
    "sequenceDiagram\n",
    "    actor User as 🧍 User\n",
    "    participant Tool1 as 📄 Tool 1 (CSV Reader)\n",
    "    participant Motiva as 💬 Agent (Motiva)\n",
    "\n",
    "    User->>Tool1: Uploads Strava CSV for running statistics\n",
    "    Tool1-->>Motiva: Provides summary (pace, distance, frequency, etc.)\n",
    "    User->>Motiva: Based on my summary, can I complete my goals?\n",
    "    Motiva-->>User: Evaluates stats and responds with analysis and likelihood of success\n",
    "    Motiva-->>User: Provides personalized advice or adjustments to help reach the goal\n",
    "'''\n",
    "mm(dia4)"
   ]
  },
  {
   "cell_type": "markdown",
   "id": "6e92611e-e7a9-4183-a1fd-6be82c790370",
   "metadata": {},
   "source": [
    "## Five User Cases"
   ]
  },
  {
   "cell_type": "markdown",
   "id": "a81d9162-97ee-4090-a128-59453c3324da",
   "metadata": {},
   "source": [
    "### 1. A person with their Strava data. Just wants to see if they’re able to run at a 6:00 pace in two months."
   ]
  },
  {
   "cell_type": "code",
   "execution_count": 5,
   "id": "3453a130-a986-43b8-8b81-0192508f25e9",
   "metadata": {},
   "outputs": [
    {
     "data": {
      "text/html": [
       "<img src=\"https://kroki.io/mermaid/svg/eNptkr1u1EAUhXs_xUnFbrGrxAWFiyBEpBAJJJRNoL7x3LWHHc-YueNF21HQpgEaKkqaPBVPwCMwP1qyiLXkwuN7z_nOsSvhDxPbli80dZ6GCvGiNjiPW2EPEvz-8fM-P-R3I_mgWz2SDbhxzpyVka-f8xPOMHuxeotrJsV-_t_Gaxf0lsrKlwc87zgezsrp_Kh-XYa_3Rf9GrOLqd2k-9LNq7yS2Bbn55mmwe1oHCnBKniKVooC5an8ehHniluDN95ttWKBTMNAfge3xhSlngj8ZK22HXotsYld3i9rSSD5NbjpyW7kBO96Cr8-fRfs3OTROTIxQ8sgqxD0wEZbfnbIufe_wscUMrhkB8LT5vS0rGobcw7Ohl6W1VHzSxegwxJX0XlA23O7Sbx6jbDHWTOJvjOMOxJWcLYApj6Wh5qluLrBism3Pdbx08fqdC5gNGQlIfY6PAL-7bM-7POaw-TjtGfD25xsr-JZonXLcjTLS_YcOycE0sb5yFovcvh_MTIFmzHFyDgp6SPTyVHtV1zKICMOG-YxaZauchujd12kk_y1SL2fJKT_zTIrVsvqD8stDwU=\"/>"
      ],
      "text/plain": [
       "<IPython.core.display.Image object>"
      ]
     },
     "metadata": {},
     "output_type": "display_data"
    }
   ],
   "source": [
    "dia1 = '''\n",
    "sequenceDiagram\n",
    "    actor User as 🧍 User\n",
    "    participant Tool1 as 📄 Tool 1 (CSV Reader)\n",
    "    participant Motiva as 💬 Agent (Motiva)\n",
    "    participant Tool2 as 🔍 Tool 2 (DuckDuckGo)\n",
    "\n",
    "    User->>Tool1: Uploads Strava data\n",
    "    Tool1-->>Motiva: Provides summary of user's running history\n",
    "    Motiva-->>User: Thanks! What’s your goal pace and timeline?\n",
    "    User->>Motiva: I want to run a 6:00 pace in 2 months.\n",
    "\n",
    "    Motiva-->>User: Got it. I’m checking if that’s feasible based on your data.\n",
    "    Motiva->>Tool2: Search for training plans to hit 6:00 pace\n",
    "    Tool2-->>Motiva: Returns relevant training resources\n",
    "    Motiva-->>User: Here's a tailored 2-month training plan to help you hit that 6:00 pace!\n",
    "    Motiva-->>User: Let’s also keep tracking your progress and adjust as needed.\n",
    "'''\n",
    "\n",
    "mm(dia1)"
   ]
  },
  {
   "cell_type": "markdown",
   "id": "9f229a89-fcc8-4daf-9575-62f5e52dd9a4",
   "metadata": {},
   "source": [
    "### 2. A **complete beginner** who doesn’t know where to start and **doesn't have strava**. She signed up for the **half marathon** for March 30th and it’s currently December 14th. She has really old shoes (500+ mi), she gets **really bad shin splints**, and runs an 11:00 pace. She can’t even run two miles straight."
   ]
  },
  {
   "cell_type": "code",
   "execution_count": 9,
   "id": "53cd0d0b-b240-476d-95b2-6bf28e3e63c4",
   "metadata": {},
   "outputs": [
    {
     "data": {
      "text/html": [
       "<img src=\"https://kroki.io/mermaid/svg/eNp9UruS00AQzP0V7QRDcMY-Q-Lgqq7qAlyFEx4B4Uia025ptbvsjiyU3Q-QUCREhCR81X0Bn8BIIiAQuFTl0qi7p3tmVpk_duxLvrNUJ2pX0B-VEhLeZ06gjF_ff3yeXqZvkZLY0kbygnMQe6EZ8-UnbmvW4tO5-mw1wUfe1c3NXDvilV3jtGlBKEMbHQuj4Np6z2mLE7KtPVfoIu7VAMGQu0dLicQED33OlEqDw07Mdkn-JJuMOy65LdT7_oUYkK9UuCS_EaTO4xqtdZyRJZGtjSzrTFASZWO_P-52GrvkSatm1WFybkBBFbKxHjk66yUvSp0HxQRtaOjCCBf19VL1ZhOaSAy323lWM-VKyaPGEe8M-SZPo8iGkvU1tK8ySNZ4zWPWlhq1hejIbxc13gpH7I94w4rRCEPo0mzo8eGr9h42ieFsw5qnpC6PTbS8kGtR-Xr814tAb3XWOrTnPbkGyuJ0IZdx-ISokXvm5j8yhyNuq2rcCftahZ6gDYV1Vgb0ITWQgNzFGLTRFMBx_Q9XH0L3-PBNp1TwuKZKtzT8dTUauuc_gM666dT07KtuXOh69Rsqcgab\"/>"
      ],
      "text/plain": [
       "<IPython.core.display.Image object>"
      ]
     },
     "metadata": {},
     "output_type": "display_data"
    }
   ],
   "source": [
    "dia2 = '''\n",
    "sequenceDiagram\n",
    "    actor User as 🧍 User\n",
    "    participant Motiva as 💬 Agent (Motiva)\n",
    "\n",
    "    User->>Motiva: Hi! I'm a complete beginner. I signed up for a half marathon on March 30th.\n",
    "    User->>Motiva: It's December 14th and I can't run 2 miles straight.\n",
    "    User->>Motiva: I run at an 11:00 pace and get really bad shin splints.\n",
    "    User->>Motiva: My shoes have over 500 miles on them.\n",
    "\n",
    "    Motiva-->>User: Thanks for sharing all that! Let's make a plan.\n",
    "    Motiva-->>User: Step 1: Replace your shoes—they're likely causing the shin splints.\n",
    "    Motiva-->>User: Step 2: Start with run/walk intervals 3x per week.\n",
    "    Motiva-->>User: Step 3: Add strength & mobility work to support your legs.\n",
    "    Motiva-->>User: You’ll be ready by March 30th—we’ll build up gradually!\n",
    "'''\n",
    "mm(dia2)"
   ]
  },
  {
   "cell_type": "markdown",
   "id": "58d255b3-54aa-43d4-bef5-010fdcc7f3c6",
   "metadata": {},
   "source": [
    "### 3. Someone who is trying to **PR a 5k**. He **has some strava data**. He currently just bought new shoes, runs at a 9:30 pace, and is a casual runner who runs 5 times a week. He doesn’t have any injuries."
   ]
  },
  {
   "cell_type": "code",
   "execution_count": 11,
   "id": "81c9ea70-412f-4ca6-8850-e6a34370854f",
   "metadata": {},
   "outputs": [
    {
     "data": {
      "text/html": [
       "<img src=\"https://kroki.io/mermaid/svg/eNptkbFuE0EQhns_xe8KW0qAGKXgikiISAEBUmQT-tHe-Lz4bveY2fXhLgVtGkiTipKGp8oT8Ajs3gKyRE660-7MP_N_v26i_CmyM3xuqRHqJkgPmeAFV8oCUvz6_uNmvIy9niRYY3tyAe-9b0-K5NuX8YYTzF6uPmDJVLPM_5t454PdURn5-hMvGk7FWanOH9y_KOLbm7J_gdl5NNv8Xvj5ZBzJbMdnZyNNhau-9VQrVkEoWdUUaFSN7eOkK24VLsXvbM0KjV1HssfsefXsaQIwfITTz08G5i0kOmddcwTnYd3HKJZ1fuj6d9trDBk5eFwu0e1x-mZa6IogG-eJChc-wIYp3nK4v75TCO8sD9j7KOjFN8KqIFej8dTq48MdJeOiwopJzAbr9Jd4vWaTupwcs3VKbTMx-pac_ku-OEy-5BDFpeBBoklHrosagw0baM-pkAkCd73H4GX7YJJXLPxIC7mJGnyXAfKm--vb9k-8xo-YYUMBa9L0SXi6mU5-A4UC1uQ=\"/>"
      ],
      "text/plain": [
       "<IPython.core.display.Image object>"
      ]
     },
     "metadata": {},
     "output_type": "display_data"
    }
   ],
   "source": [
    "dia5 = '''\n",
    "sequenceDiagram\n",
    "    actor User as 🧍 User\n",
    "    participant Tool1 as 📄 Tool 1 (CSV Reader)\n",
    "    participant Motiva as 💬 Agent (Motiva)\n",
    "    participant Tool2 as 🔍 Tool 2 (DuckDuckGo)\n",
    "\n",
    "    User->>Tool1: Uploads Strava data\n",
    "    Tool1-->>Motiva: Provides summary (9:30 pace, 5x/week running, no injuries)\n",
    "    User->>Motiva: I want to PR my 5K!\n",
    "\n",
    "    Motiva-->>User: Got it! Let’s review your progress and goals.\n",
    "    Motiva->>Tool2: Search for effective 5K PR training plans\n",
    "    Tool2-->>Motiva: Returns structured plans with speed and tempo work\n",
    "    Motiva-->>User: Here's your custom PR plan—let’s go for that fast finish!\n",
    "'''\n",
    "mm(dia5)"
   ]
  },
  {
   "cell_type": "markdown",
   "id": "93ed9836-6c74-4082-920c-a7310b8fce95",
   "metadata": {},
   "source": [
    "### 4. A person who runs a lot and has ran various half marathons, but is **trying to shoot for running an ultra marathon**. They have a lot of **knee and shin problems**. Their shoes are also getting really bad. She only has 4 months to train, even though ultramarathons usually take half a year to a full year to train for. She still wants to try it out. Doesn't have strava data only uses her Nike Run app."
   ]
  },
  {
   "cell_type": "code",
   "execution_count": 12,
   "id": "244fa0b4-8cd6-4c13-b562-17c2348ba3a5",
   "metadata": {},
   "outputs": [
    {
     "data": {
      "text/html": [
       "<img src=\"https://kroki.io/mermaid/svg/eNptkkFqXDEMhvdzCu2aQOYVQlezCBQCJdB0kaQH0LzR2Or42a4lz2R2vUA2pZuuuuymp-oJeoTq2RBKOg8Mlp_0_dJvL4Q-V4ojXTO6gtMC7MNRU4GPQgVQ4M-Pn08taP8yFuWRM0aF26S8x57z9Re8dWSHZ_30_L_sh5TCZU_-9tQiuISz6zru5vUunS9ayay0vLrqlBXcvNoTlBphwngEj2Fru4LqUxRYV4XDzNYEWo6AEWrQggPcQIphzrfqNzClqF6Gk_yes4tEVr4B8RytbY4D3B4tSiSAheCQSoRUdUZXIfjAO4I76wtzHnrnHbk0-KyxggePcSewNS_FY-HoBnhP-vvLd0OKkAgUll2TXVcOG0AYsSqnKpADxuEFtjm4gnvCMvrGbdM-G2IeWOOmA67yBu1WG5vjp2rm5EJ7uyBOsWEbbPmPE3ektZipzxDliQJHkgtwJmlxtu1MLORxDWKZSo5JTo5_X50jUenFNdvz2tDFXEXRqX89pTUH1mNHSkgHmDgQOupu1HwaS4YshIHFnhbQY6ZRcR5LGihtt1TM9UCP3AXMAFBPzdLFX8RTBLk=\"/>"
      ],
      "text/plain": [
       "<IPython.core.display.Image object>"
      ]
     },
     "metadata": {},
     "output_type": "display_data"
    }
   ],
   "source": [
    "dia6 = '''\n",
    "sequenceDiagram\n",
    "    actor User as 🧍 User\n",
    "    participant Motiva as 💬 Agent (Motiva)\n",
    "    participant Tool2 as 🔍 Tool 2 (DuckDuckGo)\n",
    "\n",
    "    User->>Motiva: I've run many half marathons but want to try an ultra. I only have 4 months.\n",
    "    User->>Motiva: I have knee and shin pain. My shoes are worn out. I use Nike Run app.\n",
    "\n",
    "    Motiva-->>User: Thanks for sharing. Let’s assess risk and build a cautious plan.\n",
    "    Motiva-->>Tool2: Search for ultra marathon training guidance and injury prevention\n",
    "    Tool2-->>Motiva: Returns training timelines, gear tips, and rehab strategies\n",
    "    Motiva-->>User: Suggests gear upgrade, strength/mobility, and slow mileage buildup\n",
    "    Motiva-->>User: Sets realistic expectations and offers flexibility in the plan\n",
    "'''\n",
    "mm(dia6)"
   ]
  },
  {
   "cell_type": "markdown",
   "id": "cbc4beb9-7987-4b04-91c1-4730fd6b21c1",
   "metadata": {},
   "source": [
    "### 5. He is currently **60 years old**, and wants to start running soon. **Doesn't have a strava.** He hasn’t ran in a very long time, but wants to get started because of his daughter. He has a lot of different physical issues; his disc is really bad, he’s been smoking since he was 14, and often has body aches. How can he run 5 miles straight by the end of the month?"
   ]
  },
  {
   "cell_type": "code",
   "execution_count": 13,
   "id": "f90e49ed-f383-4984-97d9-6bfef9742bb7",
   "metadata": {},
   "outputs": [
    {
     "data": {
      "text/html": [
       "<img src=\"https://kroki.io/mermaid/svg/eNptksGKFEEMhu_zFLntLkwPsqCHOSwICyIowro-QLoq0x2mqtJWqmZpT77AXsSLJ49efCqfwEcwXb0H0Wlo6Kqkvz_5k43Sx0rJ0S3jkDFuwB50RTJ8UMqACr-__3hshxabMBd2PGEq8FYKn3DN-fITXg5kl5fr7dV_2fci4XpN_vrYTnANl7fVHZf3lVxt2i-LUndzs1L28PoiwotnWxjxROmiQK4JOMFMmHULfS3wsMCLtMhziBxI4WD1xxk81mEslHdnyY0JntUBq1ZaeOJna39cvjH5NUOjHMk3pieHnnS3lrqSOmMu6D3cj5iOMEttuTpi5jTs4A2VX5-_KUyZJXPhT4bEA5W5SWgxj2CxLsy7f7DNsj28t2bduEIpGaQ7iKtqNfU0cEo2J2s-mRgMlT3aOBs604i9yUoRJ0EbvCG7v2y4o1JzUgjy0HGcbPYwBUxmgMui2pWM3NDsCZ9sieTZYQD0JzatTCo1O9KzrtyRkxgpebVRhaOhthCl58BlXnFWfLeEzIuMhYa5tWrr6KuJ9JWD7-p0Fv7ucKCsYBtsFeBAplOeoBR50Rw5LtvhJGkNBRC8LOu9-QPwcAfb\"/>"
      ],
      "text/plain": [
       "<IPython.core.display.Image object>"
      ]
     },
     "metadata": {},
     "output_type": "display_data"
    }
   ],
   "source": [
    "dia7 = '''\n",
    "sequenceDiagram\n",
    "    actor User as 🧍 User\n",
    "    participant Motiva as 💬 Agent (Motiva)\n",
    "    participant Tool2 as 🔍 Tool 2 (DuckDuckGo)\n",
    "\n",
    "    User->>Motiva: I'm 60, haven't run in years, but want to run 5 miles for my daughter.\n",
    "    User->>Motiva: I have disc issues, body aches, and have smoked for decades.\n",
    "\n",
    "    Motiva-->>User: Thank you for sharing. Let’s prioritize safety and start gently.\n",
    "    Motiva-->>Tool2: Search for senior-focused beginner running guidance and rehab protocols\n",
    "    Tool2-->>Motiva: Returns low-impact plans, cross-training ideas, and medical advice resources\n",
    "    Motiva-->>User: Recommends walking, mobility, and run-walk strategy for gradual build-up\n",
    "    Motiva-->>User: Offers encouragement, and reminds him to consult a doctor\n",
    "'''\n",
    "mm(dia7)"
   ]
  },
  {
   "cell_type": "markdown",
   "id": "cc298a3a-f1dc-4cc4-a7f7-e6be5af5f6e4",
   "metadata": {},
   "source": [
    "## Let's move onto evaluating existing LLMs"
   ]
  },
  {
   "cell_type": "markdown",
   "id": "d56cac15-1cf2-4a3e-9a56-2d407ddc4ad6",
   "metadata": {},
   "source": [
    "- [Exploration](/3_Exploration.ipynb)"
   ]
  }
 ],
 "metadata": {
  "kernelspec": {
   "display_name": "Python 3 (ipykernel)",
   "language": "python",
   "name": "python3"
  },
  "language_info": {
   "codemirror_mode": {
    "name": "ipython",
    "version": 3
   },
   "file_extension": ".py",
   "mimetype": "text/x-python",
   "name": "python",
   "nbconvert_exporter": "python",
   "pygments_lexer": "ipython3",
   "version": "3.10.12"
  }
 },
 "nbformat": 4,
 "nbformat_minor": 5
}
