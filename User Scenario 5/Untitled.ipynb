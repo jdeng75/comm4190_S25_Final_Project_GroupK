{
 "cells": [
  {
   "cell_type": "markdown",
   "id": "acb576ec-961a-4ca8-a838-229bf31e64d1",
   "metadata": {},
   "source": [
    "# User Scenario 5:\n",
    "### He is currently 60 years old, and wants to start running soon. He hasn't ran in a very long time, but wants to get started because of his daughter. He has a lot of different physical issues; his disc is really bad, he's been smoking since he was 14, and often has body aches. How can he run 5 miles straight by the end of the month?"
   ]
  },
  {
   "cell_type": "code",
   "execution_count": 1,
   "id": "7ec855cf-b3f9-4bca-85ed-f021b80f238e",
   "metadata": {},
   "outputs": [],
   "source": [
    "import sys\n",
    "import base64\n",
    "import zlib\n",
    "from IPython.display import Image,display,SVG"
   ]
  },
  {
   "cell_type": "code",
   "execution_count": 2,
   "id": "77bd2768-a060-4f3d-914d-c6f1e20bf476",
   "metadata": {},
   "outputs": [],
   "source": [
    "def mm(diagram):\n",
    "    encoded_diagram = base64.urlsafe_b64encode(zlib.compress(diagram.encode('utf-8'), 9)).decode('ascii')\n",
    "    dia_url = f'https://kroki.io/mermaid/svg/{encoded_diagram}'\n",
    "    display(Image(url=dia_url))"
   ]
  },
  {
   "cell_type": "code",
   "execution_count": 3,
   "id": "c5ded0d6-4fc1-4b9f-9d1e-3909871b6a18",
   "metadata": {},
   "outputs": [
    {
     "data": {
      "text/html": [
       "<img src=\"https://kroki.io/mermaid/svg/eNqFVMtuE0EQvOcr-gZI3iUhj4MPkXgKJLjESIjjeKZ3t_HsjJnujbOc-Agu_B5fQs-sHcUEJ754X1NdXVXdR4zfBwwW35Bpk-mPQH9XQwiYqsvLlx_gdTS2m8OHPz9_93BxDCY46Mw1Bn0gkIYAFGBEk7g-eBY2JghILJ-fQ08eGViSobYTWI4gHQIqcGzKZR-DdPVDVK4RuI8rdMCk5EsJhpOzWeEGBpbGgSO2s0LYxsCSOSyjG0FR8DDbV4PcYeyiMiKGJiboR3BmUMqY6qNyfHeqUoQJag6fOyPKkJXEOm4wNYOHhIZjqLcqdpiwAJLUB2G-4BPvoY3APm5msE5R0AqMcUjanF1NjS0H8g6aFHvYFFh9Dybhv_wuLz-hI2v8Qs9b5DlcIatptqPQQnYi5IsNSQe8pmB8UQ-IeVCvcqmsd_5G1ZCYxrqeuO_jVntSLoa2RRbQDirq10b5W5McxZk6omTVkyV5knFqRm0nhVZTKQgG1hf3-1hIQrHdgiR38Y6Cy6T6OAE9v4WEFAehgJN1uScsRb5FBecd-7to-9zfxUG_dob8CC0G8Vnb1ihzI5XNlmQ06WIyluwtAXCJvOf7vD9vNd4S_xgnNQs5DBRT1STSGdByS2wphwDOqzwqZWrW3oRb1ntY_6O9MX5VSazKyRTbhMwUtyiTyykbk1toPN7QlnyOk6j6D8T7vaasxDsP6hqT5tp4-qGmZfD5wXMLwTWc5H-TZKJwcl69ONZtEArfSWuV1RVH_bQbNOkVmyZnpTi1G9yDJV7oggiSoht0LZweV4xWPW9LpNK18Qx4jWmE01yY88bJxbXiDE5vnm8QV48UOJ3DS-d2mSg5xhtMllizphtjb1Kn3D3N0qx4BktKrnKx5WePFDnThFBPZcGWyVRgjo0AD6kxOmjwVIc2bwFd2szP7s6PXo-wNtnFB2ucz-GtPofc80z1sXlLYRFLqFfFiwV-rDVUdlCpAmCjeZUZhChaweIjFS7m8Bo9LpMR3MqeA13D1zhohlQ5F0tzuw2rKwz-_Pw15VLvVcP66C9KuTx2\"/>"
      ],
      "text/plain": [
       "<IPython.core.display.Image object>"
      ]
     },
     "metadata": {},
     "output_type": "display_data"
    }
   ],
   "source": [
    "dia1 = '''\n",
    "sequenceDiagram\n",
    "    Runner->>AI Coach: I’m 60 and haven’t run in years.\n",
    "    Runner->>AI Coach: I want to run 5 miles straight by the end of the month.\n",
    "    Runner->>AI Coach: I’ve smoked since I was 14, have a bad disc, and constant body aches.\n",
    "    Runner->>AI Coach: But I want to do this for my daughter.\n",
    "\n",
    "    AI Coach-->>Runner: That’s a powerful reason. I’m here for it.\n",
    "    AI Coach-->>Runner: We'll go slow, protect your back, and build from where you are.\n",
    "\n",
    "    AI Coach->>MedicalSources: Researching training with spinal disc issues and smoking history...\n",
    "    MedicalSources-->>AI Coach: Suggest low-impact cardio, core stability, and monitored intensity.\n",
    "\n",
    "    AI Coach->>StretchSites: Finding mobility/stability routines for spine and joints...\n",
    "    StretchSites-->>AI Coach: Found daily gentle yoga, cat-cow, and thoracic mobility drills.\n",
    "\n",
    "    AI Coach->>TrainingSites: Looking for senior-friendly beginner 5-mile run plans...\n",
    "    TrainingSites-->>AI Coach: Found walk-to-run progression plans with rest and flexibility built in.\n",
    "\n",
    "    AI Coach-->>Runner: Here’s the personalized plan:\n",
    "    AI Coach-->>Runner: Step 1: Start with 15-20 min walk daily, adding light back-safe stretches.\n",
    "    AI Coach-->>Runner: Step 2: Introduce 30-sec jog intervals every 3 mins of walking, 3x/week.\n",
    "    AI Coach-->>Runner: Step 3: Add gentle core exercises to protect your spine (planks, bird-dogs).\n",
    "    AI Coach-->>Runner: Step 4: Limit running to soft surfaces (track, grass) and monitor any pain.\n",
    "    AI Coach-->>Runner: Step 5: Each week, increase jog time slightly. Focus on effort, not pace.\n",
    "    AI Coach-->>Runner: Step 6: Celebrate every mile. You’re doing this for her — and for you.\n",
    "'''\n",
    "\n",
    "mm(dia1)"
   ]
  },
  {
   "cell_type": "code",
   "execution_count": null,
   "id": "29ad9cbb-6993-44fe-ba77-c48b9197772f",
   "metadata": {},
   "outputs": [],
   "source": []
  }
 ],
 "metadata": {
  "citation-manager": {
   "items": {}
  },
  "kernelspec": {
   "display_name": "Python 3-12 (COMM4190)",
   "language": "python",
   "name": "python3-12_comm4190"
  },
  "language_info": {
   "codemirror_mode": {
    "name": "ipython",
    "version": 3
   },
   "file_extension": ".py",
   "mimetype": "text/x-python",
   "name": "python",
   "nbconvert_exporter": "python",
   "pygments_lexer": "ipython3",
   "version": "3.12.8"
  }
 },
 "nbformat": 4,
 "nbformat_minor": 5
}
