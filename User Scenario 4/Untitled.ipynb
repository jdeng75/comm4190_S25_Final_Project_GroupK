{
 "cells": [
  {
   "cell_type": "markdown",
   "id": "d1e6112c-df18-49f3-ac8c-51c7ceed2103",
   "metadata": {},
   "source": [
    "# User Scenario 4:\n",
    "### Someone has just ran their half marathon on March 30th and has the Broad Street Run (10 miles) on May 4th. They haven't ran at all since the half marathon and it's currently April 24th. They need to practice soon, but have been dealing with a lot of body pain and knee pain. How can they best prepare?"
   ]
  },
  {
   "cell_type": "code",
   "execution_count": 2,
   "id": "b719dd5d-de28-449f-b7ca-22907b985642",
   "metadata": {},
   "outputs": [],
   "source": [
    "import sys\n",
    "import base64\n",
    "import zlib\n",
    "from IPython.display import Image,display,SVG"
   ]
  },
  {
   "cell_type": "code",
   "execution_count": 3,
   "id": "ae0bbb0b-2294-4fe4-874e-9d9637772490",
   "metadata": {},
   "outputs": [],
   "source": [
    "def mm(diagram):\n",
    "    encoded_diagram = base64.urlsafe_b64encode(zlib.compress(diagram.encode('utf-8'), 9)).decode('ascii')\n",
    "    dia_url = f'https://kroki.io/mermaid/svg/{encoded_diagram}'\n",
    "    display(Image(url=dia_url))"
   ]
  },
  {
   "cell_type": "code",
   "execution_count": 4,
   "id": "c5776620-e63f-4d98-867f-d633e0ae6edd",
   "metadata": {},
   "outputs": [
    {
     "data": {
      "text/html": [
       "<img src=\"https://kroki.io/mermaid/svg/eNqFVU1v00AQvfdXzBGkOEALlxwqFSqgEkioLQeOY3tsT7PeMfuRyLf-B7jw9_pLmF0nUUKbEvkQ2ztv3sx7Mz7x9DOSreiSsXXYn4D-rqO15Irz84sr-CBYdQv4TOMMruAu-gAOLSB0aBro0WHoxIJeX9FVHZy9Dt38GMqVRq3IPtz_UZRowbNmBrQ1hI7gvROs4SY4opCigb2CjvD2OcSgYB4uBscGTvUkWFkfP62HVwQlkYWa0LBtYc0ahGAkgDRQSj3CgGxnQH6gitGYEZaWKD-dn2ToLWKh6FOaBdx2aJceGnG5mDjUGAge7n-DoYlkSeC1YWFKGTr286No3xyL4zCmHnRbph0bAkKfbkqslsA2CASnxPTRv9zOz283b244kF_ADSWFUrDvxIUikOvhzeuiT7BbFBgM2qmMQXwossyOKlmRG-fzifEBcHHQ4o8SVU7DbRcKk_Sc8HLJlRPvi12mpPsazbJIVtBSyK3Q-MdlfFLemxKuye-K2JKCIGJ8RvNxGLQyaPXQlusu-imejWAPTowh52fqZu-xJWij1bs9QFbTZA-UDit6guK3W2Um0VWJ5BeRZSKY1clhbO9iIuoIQ082ZGxHHZaA9Yor2pLdwzmke63F9hpaa202qF4_I9avOux9cFlRxbat9ngtbjlTrwYyBtWKOOjrqZiU5xHzNG6h6jb9_ci2TnBNNKbIs9BLySYZMSGkESgcGaYmZ9RA7caG-z7SU72uR4s9Vyq56-OgDR6lRWiMrDfNvrpVV-fGGDU5qS4xsH3c7r0x-UyO8mylkdsaopimrMWesvsWR8NvAg3wJim2LrgfsAr_evT04f7XGdQ4enhR8pJ0LRjDQ-AKzcv588CnCzVfFmvnck_es2R3rYR1TiQZOW4Gbre6jkKeLeC73_fiLKkK2OjwgNLnlUo1dbOWYx6haVs8m-jtAi6RdfVtZN6KkRfa3mZMtDtOau7y6H9tzooOVf1PvnfJJVX06UPSaOt9HvGDL4IOgGYLWBqt0Er6DlXPFvJD4rTvWz2c1m0mL1qE6gmoUwiBe52JvwL1YA4=\"/>"
      ],
      "text/plain": [
       "<IPython.core.display.Image object>"
      ]
     },
     "metadata": {},
     "output_type": "display_data"
    }
   ],
   "source": [
    "dia1 = '''\n",
    "sequenceDiagram\n",
    "    Runner->>AI Coach: Hey, I just ran a half marathon on March 30th.\n",
    "    Runner->>AI Coach: I haven’t run since and the Broad Street Run is May 4th.\n",
    "    Runner->>AI Coach: It’s April 24th now.\n",
    "    Runner->>AI Coach: I’ve been dealing with a lot of body pain, especially knee pain.\n",
    "\n",
    "    AI Coach-->>Runner: Thanks for the update — let’s be smart with this.\n",
    "    AI Coach-->>Runner: Priority is healing while easing back into training.\n",
    "\n",
    "    AI Coach->>TrainingSites: Searching short-term 10-mile training plans for post-half recovery...\n",
    "    TrainingSites-->>AI Coach: Found light-load plans with cross-training and walk-run intervals.\n",
    "\n",
    "    AI Coach->>GearSites: Researching recovery tools and support gear...\n",
    "    GearSites-->>AI Coach: Found foam rollers, massage guns, and supportive knee braces.\n",
    "\n",
    "    AI Coach->>PTResources: Looking into knee injury treatment and rehab advice...\n",
    "    PTResources-->>AI Coach: Recommend gentle quad/hamstring strength work, patellar taping, and ice.\n",
    "\n",
    "    AI Coach->>StretchSites: Finding full-body mobility and pain-relief stretches...\n",
    "    StretchSites-->>AI Coach: Found dynamic warmups, yoga flows, and IT band release routines.\n",
    "\n",
    "    AI Coach-->>Runner: Here’s the recovery-smart game plan:\n",
    "    AI Coach-->>Runner: Step 1: Low-impact cross-training 2–3 days (bike, elliptical).\n",
    "    AI Coach-->>Runner: Step 2: Gentle walk-run sessions, avoid long runs for now.\n",
    "    AI Coach-->>Runner: Step 3: Use knee brace, ice after activity, and do quad/hamstring strengthening.\n",
    "    AI Coach-->>Runner: Step 4: Daily stretch routine — especially for hips, hamstrings, calves, and IT band.\n",
    "    AI Coach-->>Runner: Step 5: Focus on finishing Broad Street comfortably, not racing.\n",
    "    AI Coach-->>Runner: You’ve got this — one day at a time.\n",
    "'''\n",
    "\n",
    "mm(dia1)"
   ]
  }
 ],
 "metadata": {
  "citation-manager": {
   "items": {}
  },
  "kernelspec": {
   "display_name": "Python 3-12 (COMM4190)",
   "language": "python",
   "name": "python3-12_comm4190"
  },
  "language_info": {
   "codemirror_mode": {
    "name": "ipython",
    "version": 3
   },
   "file_extension": ".py",
   "mimetype": "text/x-python",
   "name": "python",
   "nbconvert_exporter": "python",
   "pygments_lexer": "ipython3",
   "version": "3.12.8"
  }
 },
 "nbformat": 4,
 "nbformat_minor": 5
}
